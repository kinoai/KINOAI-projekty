{
 "cells": [
  {
   "metadata": {
    "ExecuteTime": {
     "end_time": "2025-04-07T08:16:45.088232Z",
     "start_time": "2025-04-07T08:16:44.255695Z"
    }
   },
   "cell_type": "code",
   "source": [
    "import pandas as pd\n",
    "import torch\n",
    "from torch import nn\n",
    "torch.set_float32_matmul_precision(\"high\")\n",
    "\n",
    "data = pd.read_csv(\"ETDataset/ETT-small/ETTm1.csv\")\n",
    "data[\"date\"] = pd.to_datetime(data[\"date\"])\n",
    "data = data.drop(columns=[\"date\"])\n",
    "data -=data.mean()\n",
    "data /=data.std()"
   ],
   "id": "ed19942f5cd8abde",
   "outputs": [],
   "execution_count": 1
  },
  {
   "metadata": {
    "ExecuteTime": {
     "end_time": "2025-04-07T08:16:46.913403Z",
     "start_time": "2025-04-07T08:16:46.910850Z"
    }
   },
   "cell_type": "code",
   "source": [
    "from torch.utils.data import Dataset\n",
    "\n",
    "\n",
    "class TimeDataset(Dataset):\n",
    "    def __init__(self, data, pred_len, lookback_len):\n",
    "        self.data = data\n",
    "        self.pred_len = pred_len\n",
    "        self.lookback_len = lookback_len\n",
    "\n",
    "    def __getitem__(self, index):\n",
    "        lookback = self.data[index: index + self.lookback_len]\n",
    "        target = self.data[index + self.lookback_len: index + self.lookback_len + self.pred_len]\n",
    "        return torch.tensor(lookback.values).float().detach(), torch.tensor(target.values).float().detach()\n",
    "\n",
    "    def __len__(self):\n",
    "        return self.data.shape[0] - self.pred_len - self.lookback_len"
   ],
   "id": "a9b1e45a30dbbe86",
   "outputs": [],
   "execution_count": 2
  },
  {
   "metadata": {
    "ExecuteTime": {
     "end_time": "2025-04-07T08:16:47.500210Z",
     "start_time": "2025-04-07T08:16:47.497417Z"
    }
   },
   "cell_type": "code",
   "source": [
    "# SPLITS\n",
    "lookback_len = 336\n",
    "pred_len = 192\n",
    "dataset = TimeDataset(data[:12 * 30 * 24], pred_len, lookback_len)\n",
    "testset = TimeDataset(data[ 12 * 30 * 24 + 4 * 30 * 24 -lookback_len: 12 * 30 * 24 + 8 * 30 * 24], pred_len, lookback_len)"
   ],
   "id": "95ce37016bd670c",
   "outputs": [],
   "execution_count": 3
  },
  {
   "metadata": {
    "ExecuteTime": {
     "end_time": "2025-04-07T08:16:59.009101Z",
     "start_time": "2025-04-07T08:16:47.886827Z"
    }
   },
   "cell_type": "code",
   "source": [
    "from torch.optim.lr_scheduler import ExponentialLR\n",
    "from tqdm import tqdm\n",
    "from model import EfficaNet\n",
    "from torch.optim import Adam\n",
    "from torch.utils.data import DataLoader\n",
    "\n",
    "BATCH_SIZE = 256\n",
    "\n",
    "loader = DataLoader(dataset, batch_size=BATCH_SIZE, drop_last=True,\n",
    "                    num_workers=8, shuffle=True, persistent_workers=True)\n",
    "test_loader = DataLoader(testset, batch_size=BATCH_SIZE, shuffle=False, num_workers=8, drop_last=True, persistent_workers=True)\n",
    "\n",
    "model = EfficaNet(embedding_dim=64, var_dim=7, size=lookback_len, output_dim=(pred_len, data.shape[1]), blocks=3).cuda()\n",
    "optimizer = Adam(model.parameters(), lr=1e-4, weight_decay=1e-5)\n",
    "scheduler = ExponentialLR(optimizer, gamma=0.95)\n",
    "def loss_fn(output, target):  #SMAPE\n",
    "   return (2 * (output - target).abs() / (output.abs() + target.abs() + 1e-8)).mean()\n",
    "\n",
    "#loss_fn = nn.MSELoss()\n",
    "eval_fn = nn.L1Loss()\n",
    "for epoch in range(100):\n",
    "    model.train()\n",
    "    epoch_loss = 0\n",
    "    count = 0\n",
    "    for lookback, target in tqdm(loader):\n",
    "        optimizer.zero_grad()\n",
    "        output = model(lookback.cuda())\n",
    "        loss = loss_fn(output, target.cuda())\n",
    "        epoch_loss += loss.item()\n",
    "        loss.backward()\n",
    "        torch.nn.utils.clip_grad_norm_(model.parameters(), 1)\n",
    "        optimizer.step()\n",
    "        count += 1\n",
    "    scheduler.step()\n",
    "    with torch.no_grad():\n",
    "        model.eval()\n",
    "        eval_loss = 0\n",
    "        count_eval = 0\n",
    "        for lookback, target in test_loader:\n",
    "            lookback = lookback.cuda()\n",
    "            target = target.cuda()\n",
    "            output = model(lookback)\n",
    "            loss = eval_fn(output, target)\n",
    "            eval_loss += loss.item()\n",
    "            count_eval += 1\n",
    "    print(f\"Epoch {epoch} loss: {epoch_loss / count} Eval loss: {eval_loss / count_eval}\")\n",
    "    print(scheduler.get_last_lr())"
   ],
   "id": "dc019ca04ef58b83",
   "outputs": [
    {
     "name": "stderr",
     "output_type": "stream",
     "text": [
      "100%|██████████| 31/31 [00:01<00:00, 15.55it/s]\n"
     ]
    },
    {
     "name": "stdout",
     "output_type": "stream",
     "text": [
      "Epoch 0 loss: 0.6869723008524987 Eval loss: 0.43695007264614105\n",
      "[9.5e-05]\n"
     ]
    },
    {
     "name": "stderr",
     "output_type": "stream",
     "text": [
      "100%|██████████| 31/31 [00:01<00:00, 18.31it/s]\n"
     ]
    },
    {
     "name": "stdout",
     "output_type": "stream",
     "text": [
      "Epoch 1 loss: 0.6434501986349782 Eval loss: 0.4137719929218292\n",
      "[9.025e-05]\n"
     ]
    },
    {
     "name": "stderr",
     "output_type": "stream",
     "text": [
      "100%|██████████| 31/31 [00:01<00:00, 18.34it/s]\n"
     ]
    },
    {
     "name": "stdout",
     "output_type": "stream",
     "text": [
      "Epoch 2 loss: 0.6220605354155263 Eval loss: 0.40413835644721985\n",
      "[8.573749999999999e-05]\n"
     ]
    },
    {
     "name": "stderr",
     "output_type": "stream",
     "text": [
      "100%|██████████| 31/31 [00:01<00:00, 18.42it/s]\n"
     ]
    },
    {
     "name": "stdout",
     "output_type": "stream",
     "text": [
      "Epoch 3 loss: 0.6110156986021227 Eval loss: 0.397387170791626\n",
      "[8.145062499999998e-05]\n"
     ]
    },
    {
     "name": "stderr",
     "output_type": "stream",
     "text": [
      "100%|██████████| 31/31 [00:01<00:00, 18.20it/s]\n"
     ]
    },
    {
     "name": "stdout",
     "output_type": "stream",
     "text": [
      "Epoch 4 loss: 0.6027588363616697 Eval loss: 0.391350531578064\n",
      "[7.737809374999998e-05]\n"
     ]
    },
    {
     "name": "stderr",
     "output_type": "stream",
     "text": [
      " 58%|█████▊    | 18/31 [00:01<00:00, 17.83it/s]\n"
     ]
    },
    {
     "ename": "KeyboardInterrupt",
     "evalue": "",
     "output_type": "error",
     "traceback": [
      "\u001B[0;31m---------------------------------------------------------------------------\u001B[0m",
      "\u001B[0;31mKeyboardInterrupt\u001B[0m                         Traceback (most recent call last)",
      "Cell \u001B[0;32mIn [4], line 27\u001B[0m\n\u001B[1;32m     25\u001B[0m \u001B[38;5;28;01mfor\u001B[39;00m lookback, target \u001B[38;5;129;01min\u001B[39;00m tqdm(loader):\n\u001B[1;32m     26\u001B[0m     optimizer\u001B[38;5;241m.\u001B[39mzero_grad()\n\u001B[0;32m---> 27\u001B[0m     output \u001B[38;5;241m=\u001B[39m model(\u001B[43mlookback\u001B[49m\u001B[38;5;241;43m.\u001B[39;49m\u001B[43mcuda\u001B[49m\u001B[43m(\u001B[49m\u001B[43m)\u001B[49m)\n\u001B[1;32m     28\u001B[0m     loss \u001B[38;5;241m=\u001B[39m loss_fn(output, target\u001B[38;5;241m.\u001B[39mcuda())\n\u001B[1;32m     29\u001B[0m     epoch_loss \u001B[38;5;241m+\u001B[39m\u001B[38;5;241m=\u001B[39m loss\u001B[38;5;241m.\u001B[39mitem()\n",
      "\u001B[0;31mKeyboardInterrupt\u001B[0m: "
     ]
    }
   ],
   "execution_count": 4
  },
  {
   "metadata": {
    "ExecuteTime": {
     "end_time": "2025-04-07T07:39:12.938531Z",
     "start_time": "2025-04-07T07:39:12.935230Z"
    }
   },
   "cell_type": "code",
   "source": "sum([i.numel() for i in model.parameters()])",
   "id": "c429cd5364ab0f0e",
   "outputs": [
    {
     "data": {
      "text/plain": [
       "18001862"
      ]
     },
     "execution_count": 7,
     "metadata": {},
     "output_type": "execute_result"
    }
   ],
   "execution_count": 7
  },
  {
   "metadata": {
    "ExecuteTime": {
     "end_time": "2025-04-07T07:38:58.531558Z",
     "start_time": "2025-04-07T07:38:58.263018Z"
    }
   },
   "cell_type": "code",
   "source": [
    "import matplotlib.pyplot as plt\n",
    "i = 1200\n",
    "v = 1\n",
    "plt.plot(model(torch.tensor(testset[i][0]).unsqueeze(0).cuda()).squeeze(0)[:, v].cpu().detach().numpy())\n",
    "plt.plot(testset[i][1][:, v])"
   ],
   "id": "ae86f23c35912435",
   "outputs": [
    {
     "name": "stderr",
     "output_type": "stream",
     "text": [
      "/tmp/ipykernel_5832/1808394136.py:4: UserWarning: To copy construct from a tensor, it is recommended to use sourceTensor.clone().detach() or sourceTensor.clone().detach().requires_grad_(True), rather than torch.tensor(sourceTensor).\n",
      "  plt.plot(model(torch.tensor(testset[i][0]).unsqueeze(0).cuda()).squeeze(0)[:, v].cpu().detach().numpy())\n"
     ]
    },
    {
     "data": {
      "text/plain": [
       "[<matplotlib.lines.Line2D at 0x7f4c422ad850>]"
      ]
     },
     "execution_count": 5,
     "metadata": {},
     "output_type": "execute_result"
    },
    {
     "data": {
      "text/plain": [
       "<Figure size 640x480 with 1 Axes>"
      ],
      "image/png": "[encoded data removed]"
     },
     "metadata": {},
     "output_type": "display_data"
    }
   ],
   "execution_count": 5
  },
  {
   "metadata": {},
   "cell_type": "code",
   "outputs": [],
   "execution_count": null,
   "source": "",
   "id": "d33bc82bb0ff9b14"
  }
 ],
 "metadata": {
  "kernelspec": {
   "display_name": "Python 3",
   "language": "python",
   "name": "python3"
  },
  "language_info": {
   "codemirror_mode": {
    "name": "ipython",
    "version": 2
   },
   "file_extension": ".py",
   "mimetype": "text/x-python",
   "name": "python",
   "nbconvert_exporter": "python",
   "pygments_lexer": "ipython2",
   "version": "2.7.6"
  }
 },
 "nbformat": 4,
 "nbformat_minor": 5
}
